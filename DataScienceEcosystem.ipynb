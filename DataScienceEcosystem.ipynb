{
 "cells": [
  {
   "cell_type": "markdown",
   "id": "eb972ade-ba57-4080-b5f5-65fdaa6d17f6",
   "metadata": {},
   "source": [
    "# Data Science Tools and Ecosystem"
   ]
  },
  {
   "cell_type": "markdown",
   "id": "191e54ed-d7fb-40a6-a1db-6d3f40e782ed",
   "metadata": {},
   "source": [
    "In this notebook, Data Science Tools and Ecosystem are summarized."
   ]
  },
  {
   "cell_type": "markdown",
   "id": "8ca5196c-f51b-417a-a6fd-67b7ced2c2ef",
   "metadata": {},
   "source": [
    "__Objectives:__\n",
    " - List popular languages for Data Science \n",
    " - List common libraries used by  Data Scientists \n",
    " - List common Data Science Tools"
   ]
  },
  {
   "cell_type": "markdown",
   "id": "79cfbc81-ba16-42d5-9f1f-605aa75c0a3e",
   "metadata": {},
   "source": [
    "Some of the popular languages that Data Scientists use are:\n",
    "1. R\n",
    "2. Python\n",
    "3. Julia "
   ]
  },
  {
   "cell_type": "markdown",
   "id": "a283069e-5e3c-42fa-a5fb-40c3266a4c33",
   "metadata": {},
   "source": [
    "Some of the commonly used libraries used by Data Scientists include:\n",
    "1. dplyr \n",
    "2. dplyr \n",
    "3. ggplot \n",
    "4. caret "
   ]
  },
  {
   "cell_type": "markdown",
   "id": "2b2c8df8-eafd-4fe9-9181-547158a0ecb6",
   "metadata": {},
   "source": [
    "| Data Science Tools |\n",
    "|--------------------|\n",
    "| MySQL              |\n",
    "| Jupyter IDE.       |\n",
    "| Spark SQL          |\n",
    "| PixieDust          |\n",
    "| Kubernetes         |\n",
    "| IBM Fairness 360   |\n",
    "| GitHub             |\n",
    "| Egeria             |\n"
   ]
  },
  {
   "cell_type": "markdown",
   "id": "20c5ee1a-c562-49e0-9431-37c0400e9016",
   "metadata": {},
   "source": [
    "### Below are a few examples of evaluating arithmetic expressions in Python"
   ]
  },
  {
   "cell_type": "code",
   "execution_count": 3,
   "id": "a988974b-bff7-41fa-873e-d9a210d95d91",
   "metadata": {
    "tags": []
   },
   "outputs": [
    {
     "data": {
      "text/plain": [
       "17"
      ]
     },
     "execution_count": 3,
     "metadata": {},
     "output_type": "execute_result"
    }
   ],
   "source": [
    "# This is a simple arithmetic expression to multiply then add integrers.\n",
    "(3*4)+5"
   ]
  },
  {
   "cell_type": "code",
   "execution_count": 4,
   "id": "df923290-5fda-4406-87f6-40b21269e690",
   "metadata": {
    "tags": []
   },
   "outputs": [
    {
     "data": {
      "text/plain": [
       "3.3333333333333335"
      ]
     },
     "execution_count": 4,
     "metadata": {},
     "output_type": "execute_result"
    }
   ],
   "source": [
    "# This will convert 200 minutes to hours by diving by 60\n",
    "200/60"
   ]
  },
  {
   "cell_type": "markdown",
   "id": "e67d5ff5-d755-46ea-9e79-f4f206de6790",
   "metadata": {},
   "source": [
    "## Author\n",
    "Ahmad Bukhari"
   ]
  },
  {
   "cell_type": "code",
   "execution_count": null,
   "id": "722768ea-69e0-4342-9647-cbef95bcf700",
   "metadata": {},
   "outputs": [],
   "source": []
  }
 ],
 "metadata": {
  "kernelspec": {
   "display_name": "Python",
   "language": "python",
   "name": "conda-env-python-py"
  },
  "language_info": {
   "codemirror_mode": {
    "name": "ipython",
    "version": 3
   },
   "file_extension": ".py",
   "mimetype": "text/x-python",
   "name": "python",
   "nbconvert_exporter": "python",
   "pygments_lexer": "ipython3",
   "version": "3.7.12"
  }
 },
 "nbformat": 4,
 "nbformat_minor": 5
}
